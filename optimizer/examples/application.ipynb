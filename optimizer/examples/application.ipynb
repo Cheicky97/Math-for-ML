{
 "cells": [
  {
   "cell_type": "markdown",
   "metadata": {},
   "source": [
    "# Optimization"
   ]
  },
  {
   "cell_type": "markdown",
   "metadata": {},
   "source": [
    "## Table of contents\n",
    "\n",
    "<!-- Markdown TOC -->\n",
    "\n",
    "- [Introduction](#introduction)\n",
    "- [Benchmarking](#installation)\n",
    "- [Conclusion](#conclusion)\n",
    "\n",
    "<!-- /Markdown TOC -->"
   ]
  },
  {
   "cell_type": "markdown",
   "metadata": {},
   "source": [
    "## Introduction\n",
    "\n",
    "## Benchmarking\n",
    "\n",
    "## Conclusion"
   ]
  },
  {
   "cell_type": "markdown",
   "metadata": {},
   "source": []
  }
 ],
 "metadata": {
  "language_info": {
   "name": "python"
  }
 },
 "nbformat": 4,
 "nbformat_minor": 2
}
